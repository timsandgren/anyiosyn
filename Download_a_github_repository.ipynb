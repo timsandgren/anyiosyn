{
  "nbformat": 4,
  "nbformat_minor": 0,
  "metadata": {
    "colab": {
      "provenance": [],
      "authorship_tag": "ABX9TyMGYpCXFfgt0dFF2HerF+Cj",
      "include_colab_link": true
    },
    "kernelspec": {
      "name": "python3",
      "display_name": "Python 3"
    },
    "language_info": {
      "name": "python"
    }
  },
  "cells": [
    {
      "cell_type": "markdown",
      "metadata": {
        "id": "view-in-github",
        "colab_type": "text"
      },
      "source": [
        "<a href=\"https://colab.research.google.com/github/timsandgren/anyiosyn/blob/master/Download_a_github_repository.ipynb\" target=\"_parent\"><img src=\"https://colab.research.google.com/assets/colab-badge.svg\" alt=\"Open In Colab\"/></a>"
      ]
    },
    {
      "cell_type": "code",
      "source": [
        "pip install gitpython"
      ],
      "metadata": {
        "colab": {
          "base_uri": "https://localhost:8080/"
        },
        "id": "saxMoiAJ-cyn",
        "outputId": "6cfcc225-5c18-4277-e1fa-3ce09a218584"
      },
      "execution_count": 7,
      "outputs": [
        {
          "output_type": "stream",
          "name": "stdout",
          "text": [
            "Looking in indexes: https://pypi.org/simple, https://us-python.pkg.dev/colab-wheels/public/simple/\n",
            "Collecting gitpython\n",
            "  Downloading GitPython-3.1.31-py3-none-any.whl (184 kB)\n",
            "\u001b[2K     \u001b[90m━━━━━━━━━━━━━━━━━━━━━━━━━━━━━━━━━━━━━━\u001b[0m \u001b[32m184.3/184.3 kB\u001b[0m \u001b[31m11.5 MB/s\u001b[0m eta \u001b[36m0:00:00\u001b[0m\n",
            "\u001b[?25hCollecting gitdb<5,>=4.0.1\n",
            "  Downloading gitdb-4.0.10-py3-none-any.whl (62 kB)\n",
            "\u001b[2K     \u001b[90m━━━━━━━━━━━━━━━━━━━━━━━━━━━━━━━━━━━━━━━━\u001b[0m \u001b[32m62.7/62.7 kB\u001b[0m \u001b[31m6.6 MB/s\u001b[0m eta \u001b[36m0:00:00\u001b[0m\n",
            "\u001b[?25hCollecting smmap<6,>=3.0.1\n",
            "  Downloading smmap-5.0.0-py3-none-any.whl (24 kB)\n",
            "Installing collected packages: smmap, gitdb, gitpython\n",
            "Successfully installed gitdb-4.0.10 gitpython-3.1.31 smmap-5.0.0\n"
          ]
        }
      ]
    },
    {
      "cell_type": "markdown",
      "source": [
        "We can write a Python program that uses the GitPython library to download all the files from a GitHub repository and then convert them to a format suitable for machine learning. Here's some sample code that you can use as a starting point:\n",
        "\n",
        "\n",
        "In this code, we first define the GitHub repository URL and local folder where we want to clone the repository. We then use GitPython to clone the repository to the colab environment.\n",
        "\n",
        "Next, we recursively list all the files in the local folder and convert each file to the appropriate machine learning format based on its file extension. In this example, we show how to convert CSV, JSON, and text files. You can add more file formats as needed.\n",
        "\n",
        "Finally, once the data is converted to a suitable machine learning format, you can use the appropriate tools and libraries to further process and analyze the data."
      ],
      "metadata": {
        "id": "MJ7Tjb_OJSJU"
      }
    },
    {
      "cell_type": "code",
      "source": [
        "import os\n",
        "import git\n",
        "import csv\n",
        "import json\n",
        "\n",
        "# URL of the GitHub project\n",
        "github_url = \"https://github.com/perspect3vism/ad4m/\"\n",
        "\n",
        "# Colab folder to download the files to\n",
        "local_folder = '/content/adm_files'\n",
        "\n",
        "# Clone the GitHub project to the local folder\n",
        "if not os.path.exists(local_folder):\n",
        "    os.makedirs(local_folder)\n",
        "\n",
        "    try:\n",
        "        git.Git(local_folder).clone(github_url)\n",
        "    except git.exc.GitCommandError as e:\n",
        "        print(f\"Error cloning repository: {e}\")\n",
        "\n",
        "# List all the files in the local folder (recursively)\n",
        "file_list = []\n",
        "for dirpath, dirnames, filenames in os.walk(local_folder):\n",
        "    for filename in filenames:\n",
        "        file_list.append(os.path.join(dirpath, filename))\n",
        "\n",
        "# Convert the files to a suitable machine learning format and write the data to a CSV file\n",
        "with open('output.csv', 'w', newline='') as csvfile:\n",
        "    csvwriter = csv.writer(csvfile)\n",
        "\n",
        "    for filename in file_list:\n",
        "        if filename.endswith(\".json\"):\n",
        "            try:\n",
        "                with open(filename, 'r') as json_file:\n",
        "                    data = json.load(json_file)\n",
        "                csvwriter.writerow([json.dumps(data)])\n",
        "            except json.JSONDecodeError as e:\n",
        "                print(f\"Error decoding JSON file: {filename}\\nError message: {e}\")\n",
        "\n",
        "        elif filename.endswith(\".csv\"):\n",
        "            try:\n",
        "                # Convert CSV file to machine learning format (e.g. Pandas data frame)\n",
        "                data = pd.read_csv(filename)\n",
        "                # Write the converted data to the CSV file\n",
        "                csvwriter.writerow(data.values.flatten().tolist())\n",
        "            except Exception as e:\n",
        "                print(f\"Error converting CSV file: {filename}\\nError message: {e}\")\n",
        "\n",
        "        elif filename.endswith(\".txt\"):\n",
        "            try:\n",
        "                # Convert text file to machine learning format (e.g. list of strings)\n",
        "                with open(filename, 'r') as txt_file:\n",
        "                    data = txt_file.readlines()\n",
        "                # Write the converted data to the CSV file\n",
        "                csvwriter.writerow(data)\n",
        "            except Exception as e:\n",
        "                print(f\"Error converting text file: {filename}\\nError message: {e}\")\n",
        "\n",
        "        # Add more file formats as needed...\n",
        "\n",
        "        else:\n",
        "            # Ignore unsupported file formats\n",
        "            continue"
      ],
      "metadata": {
        "colab": {
          "base_uri": "https://localhost:8080/"
        },
        "id": "BHv9Xfuc5jBc",
        "outputId": "d7f20062-9301-420a-cdde-46f47e6f8057"
      },
      "execution_count": 15,
      "outputs": [
        {
          "output_type": "stream",
          "name": "stdout",
          "text": [
            "Error decoding JSON file: /content/adm_files/ad4m/test-runner/tsconfig.json\n",
            "Error message: Expecting property name enclosed in double quotes: line 3 column 5 (char 29)\n",
            "Error decoding JSON file: /content/adm_files/ad4m/host/tsconfig.json\n",
            "Error message: Expecting property name enclosed in double quotes: line 3 column 5 (char 29)\n",
            "Error decoding JSON file: /content/adm_files/ad4m/core/tsconfig-browser.json\n",
            "Error message: Expecting property name enclosed in double quotes: line 10 column 5 (char 279)\n",
            "Error decoding JSON file: /content/adm_files/ad4m/core/tsconfig.json\n",
            "Error message: Expecting property name enclosed in double quotes: line 5 column 5 (char 139)\n",
            "Error decoding JSON file: /content/adm_files/ad4m/bootstrap-languages/agent-language/tsconfig.json\n",
            "Error message: Expecting property name enclosed in double quotes: line 5 column 5 (char 105)\n",
            "Error decoding JSON file: /content/adm_files/ad4m/bootstrap-languages/agent-language/hc-dna/zomes/tests/tsconfig.json\n",
            "Error message: Expecting property name enclosed in double quotes: line 15 column 5 (char 396)\n",
            "Error decoding JSON file: /content/adm_files/ad4m/bootstrap-languages/direct-message-language/tsconfig.json\n",
            "Error message: Expecting property name enclosed in double quotes: line 15 column 1 (char 397)\n",
            "Error decoding JSON file: /content/adm_files/ad4m/bootstrap-languages/file-storage/tsconfig.json\n",
            "Error message: Expecting property name enclosed in double quotes: line 7 column 5 (char 162)\n",
            "Error decoding JSON file: /content/adm_files/ad4m/bootstrap-languages/language-language/tsconfig.json\n",
            "Error message: Expecting property name enclosed in double quotes: line 7 column 5 (char 162)\n",
            "Error decoding JSON file: /content/adm_files/ad4m/bootstrap-languages/neighbourhood-language/tsconfig.json\n",
            "Error message: Expecting property name enclosed in double quotes: line 7 column 5 (char 162)\n",
            "Error decoding JSON file: /content/adm_files/ad4m/bootstrap-languages/p-diff-sync/tsconfig.json\n",
            "Error message: Expecting property name enclosed in double quotes: line 5 column 3 (char 97)\n",
            "Error decoding JSON file: /content/adm_files/ad4m/bootstrap-languages/perspective-language/tsconfig.json\n",
            "Error message: Expecting property name enclosed in double quotes: line 6 column 1 (char 134)\n",
            "Error decoding JSON file: /content/adm_files/ad4m/tests/js/tsconfig.json\n",
            "Error message: Expecting property name enclosed in double quotes: line 9 column 5 (char 184)\n",
            "Error decoding JSON file: /content/adm_files/ad4m/executor/tsconfig.json\n",
            "Error message: Expecting property name enclosed in double quotes: line 9 column 5 (char 184)\n",
            "Error decoding JSON file: /content/adm_files/ad4m/executor/src/tests/test-language/tsconfig.json\n",
            "Error message: Expecting property name enclosed in double quotes: line 5 column 5 (char 105)\n"
          ]
        }
      ]
    },
    {
      "cell_type": "markdown",
      "source": [],
      "metadata": {
        "id": "xxj_fO5gEViy"
      }
    },
    {
      "cell_type": "code",
      "source": [
        "#Downloads the csv-file to your computer:\n",
        "\n",
        "from google.colab import files\n",
        "\n",
        "files.download('output.csv')"
      ],
      "metadata": {
        "colab": {
          "base_uri": "https://localhost:8080/",
          "height": 17
        },
        "id": "bSuXK9s--xND",
        "outputId": "529621b2-43ba-461a-93ea-7300d5f6613a"
      },
      "execution_count": 14,
      "outputs": [
        {
          "output_type": "display_data",
          "data": {
            "text/plain": [
              "<IPython.core.display.Javascript object>"
            ],
            "application/javascript": [
              "\n",
              "    async function download(id, filename, size) {\n",
              "      if (!google.colab.kernel.accessAllowed) {\n",
              "        return;\n",
              "      }\n",
              "      const div = document.createElement('div');\n",
              "      const label = document.createElement('label');\n",
              "      label.textContent = `Downloading \"${filename}\": `;\n",
              "      div.appendChild(label);\n",
              "      const progress = document.createElement('progress');\n",
              "      progress.max = size;\n",
              "      div.appendChild(progress);\n",
              "      document.body.appendChild(div);\n",
              "\n",
              "      const buffers = [];\n",
              "      let downloaded = 0;\n",
              "\n",
              "      const channel = await google.colab.kernel.comms.open(id);\n",
              "      // Send a message to notify the kernel that we're ready.\n",
              "      channel.send({})\n",
              "\n",
              "      for await (const message of channel.messages) {\n",
              "        // Send a message to notify the kernel that we're ready.\n",
              "        channel.send({})\n",
              "        if (message.buffers) {\n",
              "          for (const buffer of message.buffers) {\n",
              "            buffers.push(buffer);\n",
              "            downloaded += buffer.byteLength;\n",
              "            progress.value = downloaded;\n",
              "          }\n",
              "        }\n",
              "      }\n",
              "      const blob = new Blob(buffers, {type: 'application/binary'});\n",
              "      const a = document.createElement('a');\n",
              "      a.href = window.URL.createObjectURL(blob);\n",
              "      a.download = filename;\n",
              "      div.appendChild(a);\n",
              "      a.click();\n",
              "      div.remove();\n",
              "    }\n",
              "  "
            ]
          },
          "metadata": {}
        },
        {
          "output_type": "display_data",
          "data": {
            "text/plain": [
              "<IPython.core.display.Javascript object>"
            ],
            "application/javascript": [
              "download(\"download_554f5959-026f-4246-ab90-ea178979bf6a\", \"output.csv\", 1161070)"
            ]
          },
          "metadata": {}
        }
      ]
    }
  ]
}